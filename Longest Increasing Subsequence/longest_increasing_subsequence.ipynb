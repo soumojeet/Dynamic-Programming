{
 "cells": [
  {
   "cell_type": "markdown",
   "id": "6d0b2aa3",
   "metadata": {},
   "source": [
    "# Longest Increasing Subsequence Problem"
   ]
  },
  {
   "cell_type": "markdown",
   "id": "c6cb6207",
   "metadata": {},
   "source": [
    "### Greedy Approach"
   ]
  },
  {
   "cell_type": "code",
   "execution_count": 2,
   "id": "8783ad65",
   "metadata": {},
   "outputs": [],
   "source": [
    "def longest_increasing_subsequence(array,i=0,prev=float(\"-inf\")):\n",
    "    n=len(array)\n",
    "    if i==n:\n",
    "        return 0\n",
    "    elif array[i]<=prev:\n",
    "        return longest_increasing_subsequence(array,i+1,prev)\n",
    "    else:\n",
    "        return max(1+longest_increasing_subsequence(array,i+1,array[i]), \n",
    "                   longest_increasing_subsequence(array,i+1,prev))"
   ]
  },
  {
   "cell_type": "code",
   "execution_count": 3,
   "id": "3f83649e",
   "metadata": {},
   "outputs": [],
   "source": [
    "array=[7,5,2,4,7,2,3,6,4,5,12,1,7]"
   ]
  },
  {
   "cell_type": "code",
   "execution_count": 4,
   "id": "3ae67643",
   "metadata": {},
   "outputs": [
    {
     "data": {
      "text/plain": [
       "5"
      ]
     },
     "execution_count": 4,
     "metadata": {},
     "output_type": "execute_result"
    }
   ],
   "source": [
    "longest_increasing_subsequence(array)"
   ]
  },
  {
   "cell_type": "markdown",
   "id": "e23d94a1",
   "metadata": {},
   "source": [
    "### Top Down Approach"
   ]
  },
  {
   "cell_type": "code",
   "execution_count": 5,
   "id": "267b9aa9",
   "metadata": {},
   "outputs": [],
   "source": [
    "def longest_increasing_subsequence_td(array,i=0,prev=float(\"-inf\"),lookup=None):\n",
    "    lookup=dict() if lookup is None else lookup\n",
    "    if i in lookup:\n",
    "        return lookup[i]\n",
    "    n=len(array)\n",
    "    if i==n:\n",
    "        lookup[i]=0\n",
    "        return lookup[i]\n",
    "    elif array[i]<=prev:\n",
    "        lookup[i]=longest_increasing_subsequence_td(array,i+1,prev)\n",
    "        return lookup[i]\n",
    "    else:\n",
    "        lookup[i]=max(1+longest_increasing_subsequence_td(array,i+1,array[i]), \n",
    "                   longest_increasing_subsequence_td(array,i+1,prev))\n",
    "        return lookup[i]"
   ]
  },
  {
   "cell_type": "code",
   "execution_count": 6,
   "id": "7d45ea41",
   "metadata": {},
   "outputs": [],
   "source": [
    "array=[7,5,2,4,7,2,3,6,4,5,12,1,7]"
   ]
  },
  {
   "cell_type": "code",
   "execution_count": 7,
   "id": "8215e0e6",
   "metadata": {},
   "outputs": [
    {
     "data": {
      "text/plain": [
       "5"
      ]
     },
     "execution_count": 7,
     "metadata": {},
     "output_type": "execute_result"
    }
   ],
   "source": [
    "longest_increasing_subsequence_td(array)"
   ]
  },
  {
   "cell_type": "markdown",
   "id": "5e686921",
   "metadata": {},
   "source": [
    "### Bottom Up Approach"
   ]
  },
  {
   "cell_type": "code",
   "execution_count": 13,
   "id": "c7f94eca",
   "metadata": {},
   "outputs": [],
   "source": [
    "def longest_increasing_subsequence_bu(array):\n",
    "    n=len(array)\n",
    "    dp=[0]*n\n",
    "    dp[0]=1\n",
    "\n",
    "    for i in range(1,n):\n",
    "        maxlen=0\n",
    "        for j in range(i):\n",
    "            if array[j]<array[i] and dp[j]>maxlen:\n",
    "                maxlen=dp[j]\n",
    "        dp[i]=1+maxlen\n",
    "    return max(dp)   "
   ]
  },
  {
   "cell_type": "code",
   "execution_count": 14,
   "id": "18e290f5",
   "metadata": {},
   "outputs": [],
   "source": [
    "array=[7,5,2,4,7,2,3,6,4,5,12,1,7]"
   ]
  },
  {
   "cell_type": "code",
   "execution_count": 15,
   "id": "6a87705e",
   "metadata": {},
   "outputs": [
    {
     "data": {
      "text/plain": [
       "5"
      ]
     },
     "execution_count": 15,
     "metadata": {},
     "output_type": "execute_result"
    }
   ],
   "source": [
    "longest_increasing_subsequence_bu(array)"
   ]
  },
  {
   "cell_type": "code",
   "execution_count": null,
   "id": "b2d88c21",
   "metadata": {},
   "outputs": [],
   "source": []
  }
 ],
 "metadata": {
  "kernelspec": {
   "display_name": "Python 3 (ipykernel)",
   "language": "python",
   "name": "python3"
  },
  "language_info": {
   "codemirror_mode": {
    "name": "ipython",
    "version": 3
   },
   "file_extension": ".py",
   "mimetype": "text/x-python",
   "name": "python",
   "nbconvert_exporter": "python",
   "pygments_lexer": "ipython3",
   "version": "3.10.9"
  }
 },
 "nbformat": 4,
 "nbformat_minor": 5
}
