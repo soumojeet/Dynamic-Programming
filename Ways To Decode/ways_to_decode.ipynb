{
 "cells": [
  {
   "cell_type": "markdown",
   "id": "6d0b2aa3",
   "metadata": {},
   "source": [
    "# Ways To Decode Problem"
   ]
  },
  {
   "cell_type": "markdown",
   "id": "c6cb6207",
   "metadata": {},
   "source": [
    "### Greedy Approach"
   ]
  },
  {
   "cell_type": "code",
   "execution_count": 1,
   "id": "8783ad65",
   "metadata": {},
   "outputs": [],
   "source": [
    "def ways_to_decode(string,i=0):\n",
    "    n=len(string)\n",
    "    \n",
    "    if i==n:\n",
    "        return 1\n",
    "    elif string[i]==\"0\":\n",
    "        return 0\n",
    "    elif i+1<n and \"10\"<=string[i]+string[i+1]<=\"26\":\n",
    "        return ways_to_decode(string,i+1)+ways_to_decode(string,i+2)\n",
    "    else:\n",
    "        return ways_to_decode(string,i+1)"
   ]
  },
  {
   "cell_type": "code",
   "execution_count": 2,
   "id": "3f83649e",
   "metadata": {},
   "outputs": [],
   "source": [
    "string=\"512810120129\""
   ]
  },
  {
   "cell_type": "code",
   "execution_count": 3,
   "id": "3ae67643",
   "metadata": {},
   "outputs": [
    {
     "data": {
      "text/plain": [
       "4"
      ]
     },
     "execution_count": 3,
     "metadata": {},
     "output_type": "execute_result"
    }
   ],
   "source": [
    "ways_to_decode(string)"
   ]
  },
  {
   "cell_type": "markdown",
   "id": "e23d94a1",
   "metadata": {},
   "source": [
    "### Top Down Approach"
   ]
  },
  {
   "cell_type": "code",
   "execution_count": 7,
   "id": "267b9aa9",
   "metadata": {},
   "outputs": [],
   "source": [
    "def ways_to_decode_td(string,i=0,lookup=None):\n",
    "    lookup=dict() if lookup is None else lookup\n",
    "    if i in lookup:\n",
    "        return lookup[i]\n",
    "    n=len(string)\n",
    "    \n",
    "    if i==n:\n",
    "        lookup[i]=1\n",
    "        return lookup[i]\n",
    "    elif string[i]==\"0\":\n",
    "        lookup[i]=0\n",
    "        return lookup[i]\n",
    "    elif i+1<n and \"10\"<=string[i]+string[i+1]<=\"26\":\n",
    "        lookup[i]=ways_to_decode_td(string,i+1,lookup)+ways_to_decode_td(string,i+2,lookup)\n",
    "        return lookup[i]\n",
    "    else:\n",
    "        lookup[i]=ways_to_decode_td(string,i+1,lookup)\n",
    "        return lookup[i]"
   ]
  },
  {
   "cell_type": "code",
   "execution_count": 8,
   "id": "7d45ea41",
   "metadata": {},
   "outputs": [],
   "source": [
    "string=\"512810120129\""
   ]
  },
  {
   "cell_type": "code",
   "execution_count": 9,
   "id": "8215e0e6",
   "metadata": {},
   "outputs": [
    {
     "data": {
      "text/plain": [
       "4"
      ]
     },
     "execution_count": 9,
     "metadata": {},
     "output_type": "execute_result"
    }
   ],
   "source": [
    "ways_to_decode_td(string)"
   ]
  },
  {
   "cell_type": "markdown",
   "id": "5e686921",
   "metadata": {},
   "source": [
    "### Bottom Up Approach"
   ]
  },
  {
   "cell_type": "code",
   "execution_count": 16,
   "id": "c7f94eca",
   "metadata": {},
   "outputs": [],
   "source": [
    "def ways_to_decode_bu(string):\n",
    "    n=len(string)\n",
    "    if string[0]==\"0\":\n",
    "        return 0\n",
    "    elif n==1:\n",
    "        return 1\n",
    "    before_prev_dp=1\n",
    "    prev_dp=int(string[1]!=\"0\")+int(\"10\"<=string[0]+string[1]<=\"26\")\n",
    "    \n",
    "    for i in range(2,n):\n",
    "        dp=0\n",
    "        if string[i]!=\"0\":\n",
    "            dp+=prev_dp\n",
    "        if \"10\"<=string[i-1]+string[i]<=\"26\":\n",
    "            dp+=before_prev_dp\n",
    "        before_prev_dp=prev_dp\n",
    "        prev_dp=dp\n",
    "    return prev_dp"
   ]
  },
  {
   "cell_type": "code",
   "execution_count": 17,
   "id": "18e290f5",
   "metadata": {},
   "outputs": [],
   "source": [
    "string=\"512810120129\""
   ]
  },
  {
   "cell_type": "code",
   "execution_count": 18,
   "id": "6a87705e",
   "metadata": {},
   "outputs": [
    {
     "data": {
      "text/plain": [
       "4"
      ]
     },
     "execution_count": 18,
     "metadata": {},
     "output_type": "execute_result"
    }
   ],
   "source": [
    "ways_to_decode_bu(string)"
   ]
  }
 ],
 "metadata": {
  "kernelspec": {
   "display_name": "Python 3 (ipykernel)",
   "language": "python",
   "name": "python3"
  },
  "language_info": {
   "codemirror_mode": {
    "name": "ipython",
    "version": 3
   },
   "file_extension": ".py",
   "mimetype": "text/x-python",
   "name": "python",
   "nbconvert_exporter": "python",
   "pygments_lexer": "ipython3",
   "version": "3.10.9"
  }
 },
 "nbformat": 4,
 "nbformat_minor": 5
}
