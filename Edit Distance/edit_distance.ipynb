{
 "cells": [
  {
   "cell_type": "markdown",
   "id": "6d0b2aa3",
   "metadata": {},
   "source": [
    "# Edit Distance Problem"
   ]
  },
  {
   "cell_type": "markdown",
   "id": "c6cb6207",
   "metadata": {},
   "source": [
    "### Greedy Approach"
   ]
  },
  {
   "cell_type": "code",
   "execution_count": 2,
   "id": "8783ad65",
   "metadata": {},
   "outputs": [],
   "source": [
    "def edit_distance(word1, word2, i=0, j=0):\n",
    "    n=len(word1)\n",
    "    m=len(word2)\n",
    "    \n",
    "    if i==n:\n",
    "        return n-j\n",
    "    elif j==m:\n",
    "        return m-i\n",
    "    elif word1[i]==word2[j]:\n",
    "        return edit_distance(word1, word2, i+1, j+1)\n",
    "    else:\n",
    "        return 1 + min(edit_distance(word1, word2, i+1, j), \n",
    "                       edit_distance(word1, word2, i, j+1), \n",
    "                       edit_distance(word1, word2, i+1, j+1))"
   ]
  },
  {
   "cell_type": "code",
   "execution_count": 3,
   "id": "3f83649e",
   "metadata": {},
   "outputs": [],
   "source": [
    "word1=\"index\"\n",
    "word2=\"inside\""
   ]
  },
  {
   "cell_type": "code",
   "execution_count": 4,
   "id": "3ae67643",
   "metadata": {},
   "outputs": [
    {
     "data": {
      "text/plain": [
       "3"
      ]
     },
     "execution_count": 4,
     "metadata": {},
     "output_type": "execute_result"
    }
   ],
   "source": [
    "edit_distance(word1,word2)"
   ]
  },
  {
   "cell_type": "markdown",
   "id": "e23d94a1",
   "metadata": {},
   "source": [
    "### Top Down Approach"
   ]
  },
  {
   "cell_type": "code",
   "execution_count": 9,
   "id": "267b9aa9",
   "metadata": {},
   "outputs": [],
   "source": [
    "def edit_distance_td(word1, word2, i=0, j=0, lookup=None):\n",
    "    lookup = dict() if lookup == None else lookup\n",
    "    if (i,j) in lookup:\n",
    "        return lookup[(i,j)]\n",
    "    \n",
    "    n=len(word1)\n",
    "    m=len(word2)\n",
    "    \n",
    "    if i==n:\n",
    "        return n-j\n",
    "    elif j==m:\n",
    "        return m-i\n",
    "    elif word1[i]==word2[j]:\n",
    "        lookup[(i,j)]=edit_distance(word1, word2, i+1, j+1)\n",
    "        return lookup[(i,j)]\n",
    "    else:\n",
    "        lookup[(i,j)]=1+min(edit_distance_td(word1, word2, i+1, j, lookup), \n",
    "                              edit_distance_td(word1, word2, i, j+1, lookup), \n",
    "                              edit_distance_td(word1, word2, i+1, j+1, lookup))\n",
    "        return lookup[(i,j)]"
   ]
  },
  {
   "cell_type": "code",
   "execution_count": 10,
   "id": "7d45ea41",
   "metadata": {},
   "outputs": [],
   "source": [
    "word1=\"index\"\n",
    "word2=\"inside\""
   ]
  },
  {
   "cell_type": "code",
   "execution_count": 11,
   "id": "8215e0e6",
   "metadata": {},
   "outputs": [
    {
     "data": {
      "text/plain": [
       "3"
      ]
     },
     "execution_count": 11,
     "metadata": {},
     "output_type": "execute_result"
    }
   ],
   "source": [
    "edit_distance_td(word1,word2)"
   ]
  },
  {
   "cell_type": "markdown",
   "id": "5e686921",
   "metadata": {},
   "source": [
    "### Bottom Up Approach"
   ]
  },
  {
   "cell_type": "code",
   "execution_count": 48,
   "id": "c7f94eca",
   "metadata": {},
   "outputs": [],
   "source": [
    "def edit_distance_bu(word1,word2):\n",
    "    n=len(word1)\n",
    "    m=len(word2)\n",
    "    dp=[0]*(n+1)\n",
    "    prev_dp=[0]*(n+1)\n",
    "    \n",
    "    dp[0]=0\n",
    "    for i in range(0,n+1):\n",
    "        prev_dp[i]=i\n",
    "    for i in range(1,m+1):\n",
    "        dp[0]=i\n",
    "        for j in range(1,n+1):\n",
    "            if word1[j-1]==word2[i-1]:\n",
    "                dp[j]=prev_dp[j-1]\n",
    "            else:\n",
    "                dp[j]=1+min(prev_dp[j], prev_dp[j-1], dp[j-1])\n",
    "        prev_dp=dp\n",
    "        dp=[0]*(n+1)\n",
    "    return prev_dp[n]"
   ]
  },
  {
   "cell_type": "code",
   "execution_count": 59,
   "id": "18e290f5",
   "metadata": {},
   "outputs": [],
   "source": [
    "word1=\"inside\"\n",
    "word2=\"index\""
   ]
  },
  {
   "cell_type": "code",
   "execution_count": 60,
   "id": "6a87705e",
   "metadata": {},
   "outputs": [
    {
     "data": {
      "text/plain": [
       "3"
      ]
     },
     "execution_count": 60,
     "metadata": {},
     "output_type": "execute_result"
    }
   ],
   "source": [
    "edit_distance_bu(word1,word2)"
   ]
  }
 ],
 "metadata": {
  "kernelspec": {
   "display_name": "Python 3 (ipykernel)",
   "language": "python",
   "name": "python3"
  },
  "language_info": {
   "codemirror_mode": {
    "name": "ipython",
    "version": 3
   },
   "file_extension": ".py",
   "mimetype": "text/x-python",
   "name": "python",
   "nbconvert_exporter": "python",
   "pygments_lexer": "ipython3",
   "version": "3.10.9"
  }
 },
 "nbformat": 4,
 "nbformat_minor": 5
}
