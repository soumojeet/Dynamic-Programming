{
 "cells": [
  {
   "cell_type": "markdown",
   "id": "6d0b2aa3",
   "metadata": {},
   "source": [
    "# Shortest Common Subsequence Problem"
   ]
  },
  {
   "cell_type": "markdown",
   "id": "c6cb6207",
   "metadata": {},
   "source": [
    "### Greedy Approach"
   ]
  },
  {
   "cell_type": "code",
   "execution_count": 4,
   "id": "8783ad65",
   "metadata": {},
   "outputs": [],
   "source": [
    "def shortest_common_subsequence(string1,string2,i=0,j=0):\n",
    "    len1=len(string1)\n",
    "    len2=len(string2)\n",
    "    \n",
    "    if i==len1:\n",
    "        return len2-j\n",
    "    elif j==len2:\n",
    "        return len1-i\n",
    "    elif string1[i]==string2[j]:\n",
    "        return 1+shortest_common_subsequence(string1,string2,i+1,j+1)\n",
    "    else:\n",
    "        return 1+min(shortest_common_subsequence(string1,string2,i+1,j), \n",
    "                     shortest_common_subsequence(string1,string2,i,j+1))"
   ]
  },
  {
   "cell_type": "code",
   "execution_count": 5,
   "id": "3f83649e",
   "metadata": {},
   "outputs": [],
   "source": [
    "string1=\"abdacbab\"\n",
    "string2=\"acebfca\""
   ]
  },
  {
   "cell_type": "code",
   "execution_count": 6,
   "id": "3ae67643",
   "metadata": {},
   "outputs": [
    {
     "data": {
      "text/plain": [
       "11"
      ]
     },
     "execution_count": 6,
     "metadata": {},
     "output_type": "execute_result"
    }
   ],
   "source": [
    "shortest_common_subsequence(string1,string2)"
   ]
  },
  {
   "cell_type": "markdown",
   "id": "e23d94a1",
   "metadata": {},
   "source": [
    "### Top Down Approach"
   ]
  },
  {
   "cell_type": "code",
   "execution_count": 7,
   "id": "267b9aa9",
   "metadata": {},
   "outputs": [],
   "source": [
    "def shortest_common_subsequence_td(string1,string2,i=0,j=0,lookup=None):\n",
    "    lookup = dict() if lookup == None else lookup\n",
    "    if (i,j) in lookup:\n",
    "        return lookup[(i,j)]\n",
    "\n",
    "    len1=len(string1)\n",
    "    len2=len(string2)\n",
    "    \n",
    "    if i==len1:\n",
    "        lookup[(i,j)]=len2-j\n",
    "        return lookup[(i,j)]\n",
    "    elif j==len2:\n",
    "        lookup[(i,j)]=len1-i\n",
    "        return lookup[(i,j)]\n",
    "    elif string1[i]==string2[j]:\n",
    "        lookup[(i,j)]=1+shortest_common_subsequence_td(string1,string2,i+1,j+1)\n",
    "        return lookup[(i,j)]\n",
    "    else:\n",
    "        lookup[(i,j)]=1+min(shortest_common_subsequence_td(string1,string2,i+1,j), \n",
    "                            shortest_common_subsequence_td(string1,string2,i,j+1))\n",
    "        return lookup[(i,j)]"
   ]
  },
  {
   "cell_type": "code",
   "execution_count": 8,
   "id": "7d45ea41",
   "metadata": {},
   "outputs": [],
   "source": [
    "string1=\"abdacbab\"\n",
    "string2=\"acebfca\""
   ]
  },
  {
   "cell_type": "code",
   "execution_count": 10,
   "id": "8215e0e6",
   "metadata": {},
   "outputs": [
    {
     "data": {
      "text/plain": [
       "11"
      ]
     },
     "execution_count": 10,
     "metadata": {},
     "output_type": "execute_result"
    }
   ],
   "source": [
    "shortest_common_subsequence_td(string1,string2)"
   ]
  },
  {
   "cell_type": "markdown",
   "id": "5e686921",
   "metadata": {},
   "source": [
    "### Bottom Up Approach"
   ]
  },
  {
   "cell_type": "code",
   "execution_count": 11,
   "id": "c7f94eca",
   "metadata": {},
   "outputs": [],
   "source": [
    "def shortest_common_subsequence_bu(string1,string2):\n",
    "    len1=len(string1)\n",
    "    len2=len(string2)\n",
    "    dp=[[0]*(len2+1) for i in range(len1+1)]\n",
    "    for i in range(1,len1+1):\n",
    "        dp[i][0]=i\n",
    "    for i in range(1,len2+1):\n",
    "        dp[0][i]=i\n",
    "    for i in range(1,len1+1):\n",
    "        for j in range(1,len2+1):\n",
    "            if string1[i-1]==string2[j-1]:\n",
    "                dp[i][j]=1+dp[i-1][j-1]\n",
    "            else:\n",
    "                dp[i][j]=1+min(dp[i-1][j],dp[i][j-1])\n",
    "    return dp[len1][len2]"
   ]
  },
  {
   "cell_type": "code",
   "execution_count": 12,
   "id": "18e290f5",
   "metadata": {},
   "outputs": [],
   "source": [
    "string1=\"abdacbab\"\n",
    "string2=\"acebfca\""
   ]
  },
  {
   "cell_type": "code",
   "execution_count": 13,
   "id": "6a87705e",
   "metadata": {},
   "outputs": [
    {
     "data": {
      "text/plain": [
       "11"
      ]
     },
     "execution_count": 13,
     "metadata": {},
     "output_type": "execute_result"
    }
   ],
   "source": [
    "shortest_common_subsequence_bu(string1,string2)"
   ]
  }
 ],
 "metadata": {
  "kernelspec": {
   "display_name": "Python 3 (ipykernel)",
   "language": "python",
   "name": "python3"
  },
  "language_info": {
   "codemirror_mode": {
    "name": "ipython",
    "version": 3
   },
   "file_extension": ".py",
   "mimetype": "text/x-python",
   "name": "python",
   "nbconvert_exporter": "python",
   "pygments_lexer": "ipython3",
   "version": "3.10.9"
  }
 },
 "nbformat": 4,
 "nbformat_minor": 5
}
