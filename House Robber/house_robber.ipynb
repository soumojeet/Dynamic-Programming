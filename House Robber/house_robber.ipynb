{
 "cells": [
  {
   "cell_type": "markdown",
   "id": "6d0b2aa3",
   "metadata": {},
   "source": [
    "# House Robber Problem"
   ]
  },
  {
   "cell_type": "markdown",
   "id": "c6cb6207",
   "metadata": {},
   "source": [
    "### Greedy Approach"
   ]
  },
  {
   "cell_type": "code",
   "execution_count": 62,
   "id": "8783ad65",
   "metadata": {},
   "outputs": [],
   "source": [
    "def house_robber(array, i=0):\n",
    "    n=len(array)\n",
    "    if i>=n:\n",
    "        return 0\n",
    "    else:\n",
    "        return max(array[i]+house_robber(array,i+2),house_robber(array,i+1))"
   ]
  },
  {
   "cell_type": "code",
   "execution_count": 63,
   "id": "3f83649e",
   "metadata": {},
   "outputs": [],
   "source": [
    "array = [4,8,12,1,2,10,3,6,8]"
   ]
  },
  {
   "cell_type": "code",
   "execution_count": 64,
   "id": "3ae67643",
   "metadata": {},
   "outputs": [
    {
     "data": {
      "text/plain": [
       "34"
      ]
     },
     "execution_count": 64,
     "metadata": {},
     "output_type": "execute_result"
    }
   ],
   "source": [
    "house_robber(array)"
   ]
  },
  {
   "cell_type": "markdown",
   "id": "e23d94a1",
   "metadata": {},
   "source": [
    "### Top Down Approach"
   ]
  },
  {
   "cell_type": "code",
   "execution_count": 65,
   "id": "267b9aa9",
   "metadata": {},
   "outputs": [],
   "source": [
    "def house_robber_td(array, i=0, lookup=None):\n",
    "    lookup = dict() if lookup == None else lookup\n",
    "    if i in lookup:\n",
    "        return lookup[i]\n",
    "    n=len(array)\n",
    "    if i>=n:\n",
    "        return 0\n",
    "    else:\n",
    "        lookup[i] = max(array[i]+house_robber_td(array,i+2,lookup),house_robber_td(array,i+1,lookup))\n",
    "        return lookup[i]"
   ]
  },
  {
   "cell_type": "code",
   "execution_count": 66,
   "id": "7d45ea41",
   "metadata": {},
   "outputs": [],
   "source": [
    "array = [4,8,12,1,2,10,3,6,8]"
   ]
  },
  {
   "cell_type": "code",
   "execution_count": 67,
   "id": "8215e0e6",
   "metadata": {},
   "outputs": [
    {
     "data": {
      "text/plain": [
       "34"
      ]
     },
     "execution_count": 67,
     "metadata": {},
     "output_type": "execute_result"
    }
   ],
   "source": [
    "house_robber_td(array)"
   ]
  },
  {
   "cell_type": "markdown",
   "id": "5e686921",
   "metadata": {},
   "source": [
    "### Bottom Up Approach"
   ]
  },
  {
   "cell_type": "code",
   "execution_count": 68,
   "id": "c7f94eca",
   "metadata": {},
   "outputs": [],
   "source": [
    "def house_robber_bu(array):\n",
    "    n=len(array)\n",
    "    if n==1:\n",
    "        return array[0]\n",
    "    before_prev_dp = array[0]\n",
    "    prev_dp = max(array[0],array[1])\n",
    "    for i in range(2,n):\n",
    "        dp = max(array[i]+before_prev_dp,prev_dp)\n",
    "        before_prev_dp=prev_dp\n",
    "        prev_dp=dp\n",
    "    return prev_dp"
   ]
  },
  {
   "cell_type": "code",
   "execution_count": 69,
   "id": "18e290f5",
   "metadata": {},
   "outputs": [],
   "source": [
    "array = [4,8,12,1,2,10,3,6,8]"
   ]
  },
  {
   "cell_type": "code",
   "execution_count": 70,
   "id": "6a87705e",
   "metadata": {},
   "outputs": [
    {
     "data": {
      "text/plain": [
       "34"
      ]
     },
     "execution_count": 70,
     "metadata": {},
     "output_type": "execute_result"
    }
   ],
   "source": [
    "house_robber_bu(array)"
   ]
  }
 ],
 "metadata": {
  "kernelspec": {
   "display_name": "Python 3 (ipykernel)",
   "language": "python",
   "name": "python3"
  },
  "language_info": {
   "codemirror_mode": {
    "name": "ipython",
    "version": 3
   },
   "file_extension": ".py",
   "mimetype": "text/x-python",
   "name": "python",
   "nbconvert_exporter": "python",
   "pygments_lexer": "ipython3",
   "version": "3.10.9"
  }
 },
 "nbformat": 4,
 "nbformat_minor": 5
}
