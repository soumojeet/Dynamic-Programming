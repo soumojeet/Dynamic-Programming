{
 "cells": [
  {
   "cell_type": "markdown",
   "id": "aaa81df3",
   "metadata": {},
   "source": [
    "# Paths In Matrix Problem"
   ]
  },
  {
   "cell_type": "markdown",
   "id": "a75aad56",
   "metadata": {},
   "source": [
    "### Greedy Approach"
   ]
  },
  {
   "cell_type": "code",
   "execution_count": 23,
   "id": "a3645a01",
   "metadata": {},
   "outputs": [],
   "source": [
    "def paths_in_matrix(matrix,i=0,j=0):\n",
    "    n=len(matrix)\n",
    "    m=len(matrix[0])\n",
    "    \n",
    "    if i==n or j==m or matrix[i][j]==1:\n",
    "        return 0\n",
    "    elif i==n-1 and j==m-1:\n",
    "        return 1\n",
    "    else:\n",
    "        return paths_in_matrix(matrix,i+1,j) + paths_in_matrix(matrix,i,j+1)"
   ]
  },
  {
   "cell_type": "code",
   "execution_count": 24,
   "id": "35440080",
   "metadata": {},
   "outputs": [],
   "source": [
    "matrix = [[0,0,1,0,1],[0,0,0,0,1],[0,0,1,0,0],[1,0,0,0,0]]"
   ]
  },
  {
   "cell_type": "code",
   "execution_count": 25,
   "id": "d36e1421",
   "metadata": {},
   "outputs": [
    {
     "data": {
      "text/plain": [
       "7"
      ]
     },
     "execution_count": 25,
     "metadata": {},
     "output_type": "execute_result"
    }
   ],
   "source": [
    "paths_in_matrix(matrix)"
   ]
  },
  {
   "cell_type": "markdown",
   "id": "b489a3a4",
   "metadata": {},
   "source": [
    "### Top Down Approach"
   ]
  },
  {
   "cell_type": "code",
   "execution_count": 20,
   "id": "2e8eb7f0",
   "metadata": {},
   "outputs": [],
   "source": [
    "def paths_in_matrix_td(matrix,i=0,j=0,lookup=None):\n",
    "    lookup = dict() if lookup == None else lookup\n",
    "    if (i,j) in lookup:\n",
    "        return lookup[(i,j)]\n",
    "    \n",
    "    n=len(matrix)\n",
    "    m=len(matrix[0])\n",
    "    \n",
    "    if i==n or j==m or matrix[i][j]==1:\n",
    "        lookup[(i,j)]=0\n",
    "        return lookup[(i,j)]\n",
    "    elif i==n-1 and j==m-1:\n",
    "        lookup[(i,j)]=1\n",
    "        return lookup[(i,j)]\n",
    "    else:\n",
    "        lookup[(i,j)]=paths_in_matrix(matrix,i+1,j) + paths_in_matrix(matrix,i,j+1)\n",
    "        return lookup[(i,j)]"
   ]
  },
  {
   "cell_type": "code",
   "execution_count": 21,
   "id": "577e4ce6",
   "metadata": {},
   "outputs": [],
   "source": [
    "matrix = [[0,0,1,0,1],[0,0,0,0,1],[0,0,1,0,0],[1,0,0,0,0]]"
   ]
  },
  {
   "cell_type": "code",
   "execution_count": 22,
   "id": "2b1f256e",
   "metadata": {},
   "outputs": [
    {
     "data": {
      "text/plain": [
       "7"
      ]
     },
     "execution_count": 22,
     "metadata": {},
     "output_type": "execute_result"
    }
   ],
   "source": [
    "paths_in_matrix_td(matrix)"
   ]
  },
  {
   "cell_type": "markdown",
   "id": "12b58b75",
   "metadata": {},
   "source": [
    "### Bottom Up Approach"
   ]
  },
  {
   "cell_type": "code",
   "execution_count": 31,
   "id": "9ce0db60",
   "metadata": {},
   "outputs": [],
   "source": [
    "def paths_in_matrix_bu(matrix):\n",
    "    n=len(matrix)\n",
    "    m=len(matrix[0])\n",
    "    dp=[0]*m\n",
    "    prev_dp=[0]*m\n",
    "    prev_dp[0]=1 if matrix[0][0]==0 else 0 \n",
    "    \n",
    "    for i in range(1,m):\n",
    "        prev_dp[i]=prev_dp[i-1] if matrix[0][i]==0 else 0\n",
    "    for i in range(1,n):\n",
    "        dp[0]=prev_dp[0] if matrix[i][0]==0 else 0  \n",
    "        for j in range(1,m):\n",
    "            dp[j]=prev_dp[j]+dp[j-1] if matrix[i][j]==0 else 0\n",
    "        prev_dp=dp\n",
    "        dp=[0]*m\n",
    "    return prev_dp[m-1]    "
   ]
  },
  {
   "cell_type": "code",
   "execution_count": 32,
   "id": "e369fc38",
   "metadata": {},
   "outputs": [],
   "source": [
    "matrix = [[0,0,1,0,1],[0,0,0,0,1],[0,0,1,0,0],[1,0,0,0,0]]"
   ]
  },
  {
   "cell_type": "code",
   "execution_count": 33,
   "id": "14a50318",
   "metadata": {},
   "outputs": [
    {
     "data": {
      "text/plain": [
       "7"
      ]
     },
     "execution_count": 33,
     "metadata": {},
     "output_type": "execute_result"
    }
   ],
   "source": [
    "paths_in_matrix_bu(matrix)"
   ]
  }
 ],
 "metadata": {
  "kernelspec": {
   "display_name": "Python 3 (ipykernel)",
   "language": "python",
   "name": "python3"
  },
  "language_info": {
   "codemirror_mode": {
    "name": "ipython",
    "version": 3
   },
   "file_extension": ".py",
   "mimetype": "text/x-python",
   "name": "python",
   "nbconvert_exporter": "python",
   "pygments_lexer": "ipython3",
   "version": "3.10.9"
  }
 },
 "nbformat": 4,
 "nbformat_minor": 5
}
