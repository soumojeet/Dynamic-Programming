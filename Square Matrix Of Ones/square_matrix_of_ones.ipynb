{
 "cells": [
  {
   "cell_type": "markdown",
   "id": "6d0b2aa3",
   "metadata": {},
   "source": [
    "# Square Matrix Of Ones Problem"
   ]
  },
  {
   "cell_type": "markdown",
   "id": "c6cb6207",
   "metadata": {},
   "source": [
    "### Greedy Approach"
   ]
  },
  {
   "cell_type": "code",
   "execution_count": 4,
   "id": "8783ad65",
   "metadata": {},
   "outputs": [],
   "source": [
    "def matrix_of_ones(matrix, i=0, j=0):\n",
    "    if i<0 or j<0 or matrix[i][j]==0:\n",
    "        return 0\n",
    "    else:\n",
    "        return 1+min(matrix_of_ones(matrix, i-1, j),\n",
    "                     matrix_of_ones(matrix, i, j-1),\n",
    "                     matrix_of_ones(matrix, i-1, j-1))\n",
    "def square_matrix_of_ones(matrix):\n",
    "    n=len(matrix)\n",
    "    m=len(matrix[0])\n",
    "    max_size=0\n",
    "    \n",
    "    for i in range(n):\n",
    "        for j in range(m):\n",
    "            max_size=max(max_size,matrix_of_ones(matrix, i, j))\n",
    "    return max_size**2"
   ]
  },
  {
   "cell_type": "code",
   "execution_count": 5,
   "id": "3f83649e",
   "metadata": {},
   "outputs": [],
   "source": [
    "matrix = [[0,0,1,1,1,0],[1,0,1,1,1,1],[0,1,1,1,1,0],[1,1,1,1,0,1],[0,1,0,1,1,1]]"
   ]
  },
  {
   "cell_type": "code",
   "execution_count": 6,
   "id": "3ae67643",
   "metadata": {},
   "outputs": [
    {
     "data": {
      "text/plain": [
       "9"
      ]
     },
     "execution_count": 6,
     "metadata": {},
     "output_type": "execute_result"
    }
   ],
   "source": [
    "square_matrix_of_ones(matrix)"
   ]
  },
  {
   "cell_type": "markdown",
   "id": "e23d94a1",
   "metadata": {},
   "source": [
    "### Top Down Approach"
   ]
  },
  {
   "cell_type": "code",
   "execution_count": 16,
   "id": "267b9aa9",
   "metadata": {},
   "outputs": [],
   "source": [
    "def matrix_of_ones_td(matrix, i=0, j=0, lookup=None):\n",
    "    if (i,j) in lookup:\n",
    "        return lookup[(i,j)]\n",
    "    if i<0 or j<0 or matrix[i][j]==0:\n",
    "        lookup[(i,j)]=0\n",
    "        return lookup[(i,j)]\n",
    "    else:\n",
    "        lookup[(i,j)]=1+min(matrix_of_ones_td(matrix, i-1, j, lookup),\n",
    "                            matrix_of_ones_td(matrix, i, j-1, lookup),\n",
    "                            matrix_of_ones_td(matrix, i-1, j-1, lookup))\n",
    "        return lookup[(i,j)]\n",
    "def square_matrix_of_ones_td(matrix):\n",
    "    n=len(matrix)\n",
    "    m=len(matrix[0])\n",
    "    max_size=0\n",
    "    lookup=dict()\n",
    "    for i in range(n):\n",
    "        for j in range(m):\n",
    "            max_size=max(max_size,matrix_of_ones_td(matrix, i, j, lookup))\n",
    "    return max_size**2"
   ]
  },
  {
   "cell_type": "code",
   "execution_count": 17,
   "id": "7d45ea41",
   "metadata": {},
   "outputs": [],
   "source": [
    "matrix = [[0,0,1,1,1,0],[1,0,1,1,1,1],[0,1,1,1,1,0],[1,1,1,1,0,1],[0,1,0,1,1,1]]"
   ]
  },
  {
   "cell_type": "code",
   "execution_count": 18,
   "id": "8215e0e6",
   "metadata": {},
   "outputs": [
    {
     "data": {
      "text/plain": [
       "9"
      ]
     },
     "execution_count": 18,
     "metadata": {},
     "output_type": "execute_result"
    }
   ],
   "source": [
    "square_matrix_of_ones_td(matrix)"
   ]
  },
  {
   "cell_type": "markdown",
   "id": "5e686921",
   "metadata": {},
   "source": [
    "### Bottom Up Approach"
   ]
  },
  {
   "cell_type": "code",
   "execution_count": 22,
   "id": "c7f94eca",
   "metadata": {},
   "outputs": [],
   "source": [
    "def square_matrix_of_ones_bu(matrix):\n",
    "    n=len(matrix)\n",
    "    m=len(matrix[0])\n",
    "    dp=[0]*m\n",
    "    prev_dp=[0]*m\n",
    "    prev_dp[0]=matrix[0][0]\n",
    "    max_size=matrix[0][0]\n",
    "    \n",
    "    for i in range(1,m):\n",
    "        prev_dp[i]=matrix[0][i]\n",
    "        max_size=max(max_size, prev_dp[i])\n",
    "        \n",
    "    for i in range(1,n):\n",
    "        dp[0]=matrix[i][0]\n",
    "        for j in range(1,m):\n",
    "            dp[j]= 0 if matrix[i][j]==0 else 1+min(prev_dp[j], dp[j-1], prev_dp[j-1])\n",
    "        max_size=max(max_size, max(dp))\n",
    "        prev_dp=dp\n",
    "        dp=[0]*m\n",
    "    return max_size**2    "
   ]
  },
  {
   "cell_type": "code",
   "execution_count": 23,
   "id": "18e290f5",
   "metadata": {},
   "outputs": [],
   "source": [
    "matrix = [[0,0,1,1,1,0],[1,0,1,1,1,1],[0,1,1,1,1,0],[1,1,1,1,0,1],[0,1,0,1,1,1]]"
   ]
  },
  {
   "cell_type": "code",
   "execution_count": 24,
   "id": "6a87705e",
   "metadata": {},
   "outputs": [
    {
     "data": {
      "text/plain": [
       "9"
      ]
     },
     "execution_count": 24,
     "metadata": {},
     "output_type": "execute_result"
    }
   ],
   "source": [
    "square_matrix_of_ones_bu(matrix)"
   ]
  }
 ],
 "metadata": {
  "kernelspec": {
   "display_name": "Python 3 (ipykernel)",
   "language": "python",
   "name": "python3"
  },
  "language_info": {
   "codemirror_mode": {
    "name": "ipython",
    "version": 3
   },
   "file_extension": ".py",
   "mimetype": "text/x-python",
   "name": "python",
   "nbconvert_exporter": "python",
   "pygments_lexer": "ipython3",
   "version": "3.10.9"
  }
 },
 "nbformat": 4,
 "nbformat_minor": 5
}
