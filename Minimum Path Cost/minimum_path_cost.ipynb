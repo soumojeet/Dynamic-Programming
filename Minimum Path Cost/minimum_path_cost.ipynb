{
 "cells": [
  {
   "cell_type": "markdown",
   "id": "6d0b2aa3",
   "metadata": {},
   "source": [
    "# Minimum Path Cost Problem"
   ]
  },
  {
   "cell_type": "markdown",
   "id": "c6cb6207",
   "metadata": {},
   "source": [
    "### Greedy Approach"
   ]
  },
  {
   "cell_type": "code",
   "execution_count": 6,
   "id": "8783ad65",
   "metadata": {},
   "outputs": [],
   "source": [
    "def minimum_path_cost(matrix, i=0, j=0):\n",
    "    n=len(matrix)\n",
    "    m=len(matrix[0])\n",
    "    \n",
    "    if i==n-1 and j==m-1:\n",
    "        return matrix[i][j]\n",
    "    elif i==n-1:\n",
    "        return matrix[i][j] + minimum_path_cost(matrix,i,j+1)\n",
    "    elif j==m-1:\n",
    "        return matrix[i][j] + minimum_path_cost(matrix,i+1,j)\n",
    "    else:\n",
    "        return matrix[i][j] + min(minimum_path_cost(matrix,i+1,j), minimum_path_cost(matrix,i,j+1))"
   ]
  },
  {
   "cell_type": "code",
   "execution_count": 7,
   "id": "3f83649e",
   "metadata": {},
   "outputs": [],
   "source": [
    "matrix = [[3,2,12,15,10],[6,19,7,11,17],[8,5,12,32,21],[3,20,2,9,7]]"
   ]
  },
  {
   "cell_type": "code",
   "execution_count": 8,
   "id": "3ae67643",
   "metadata": {},
   "outputs": [
    {
     "data": {
      "text/plain": [
       "52"
      ]
     },
     "execution_count": 8,
     "metadata": {},
     "output_type": "execute_result"
    }
   ],
   "source": [
    "minimum_path_cost(matrix)"
   ]
  },
  {
   "cell_type": "markdown",
   "id": "e23d94a1",
   "metadata": {},
   "source": [
    "### Top Down Approach"
   ]
  },
  {
   "cell_type": "code",
   "execution_count": 29,
   "id": "267b9aa9",
   "metadata": {},
   "outputs": [],
   "source": [
    "def minimum_path_cost_td(matrix, i=0, j=0, lookup=None):\n",
    "    lookup = dict() if lookup == None else lookup\n",
    "    if (i,j) in lookup:\n",
    "        return lookup[(i,j)]\n",
    "\n",
    "    n=len(matrix)\n",
    "    m=len(matrix[0])\n",
    "    \n",
    "    if i==n-1 and j==m-1:\n",
    "        lookup[(i,j)] = matrix[i][j]\n",
    "        return lookup[(i,j)]\n",
    "    elif i==n-1:\n",
    "        lookup[(i,j)] = matrix[i][j] + minimum_path_cost_td(matrix,i,j+1,lookup)\n",
    "        return lookup[(i,j)]\n",
    "    elif j==m-1:\n",
    "        lookup[(i,j)] = matrix[i][j] + minimum_path_cost_td(matrix,i+1,j,lookup)\n",
    "        return lookup[(i,j)]\n",
    "    else:\n",
    "        lookup[(i,j)] = matrix[i][j] + min(minimum_path_cost_td(matrix,i+1,j,lookup), minimum_path_cost_td(matrix,i,j+1,lookup))\n",
    "        return lookup[(i,j)]"
   ]
  },
  {
   "cell_type": "code",
   "execution_count": 30,
   "id": "7d45ea41",
   "metadata": {},
   "outputs": [],
   "source": [
    "matrix = [[3,2,12,15,10],[6,19,7,11,17],[8,5,12,32,21],[3,20,2,9,7]]"
   ]
  },
  {
   "cell_type": "code",
   "execution_count": 31,
   "id": "8215e0e6",
   "metadata": {},
   "outputs": [
    {
     "data": {
      "text/plain": [
       "52"
      ]
     },
     "execution_count": 31,
     "metadata": {},
     "output_type": "execute_result"
    }
   ],
   "source": [
    "minimum_path_cost_td(matrix)"
   ]
  },
  {
   "cell_type": "markdown",
   "id": "5e686921",
   "metadata": {},
   "source": [
    "### Bottom Up Approach"
   ]
  },
  {
   "cell_type": "code",
   "execution_count": 35,
   "id": "c7f94eca",
   "metadata": {},
   "outputs": [],
   "source": [
    "def minimum_path_cost_bu(matrix):\n",
    "    n=len(matrix)\n",
    "    m=len(matrix[0])\n",
    "    dp=[0]*m\n",
    "    prev_dp=[0]*m\n",
    "    prev_dp[0] = matrix[0][0]\n",
    "    \n",
    "    for i in range(1,m):\n",
    "        prev_dp[i]=prev_dp[i-1]+matrix[0][i]\n",
    "    for i in range(1,n):\n",
    "        dp[0]=prev_dp[0]+matrix[i][0]\n",
    "        for j in range(1,m):\n",
    "            dp[j]=matrix[i][j] + min(dp[j-1], prev_dp[j])\n",
    "        prev_dp=dp\n",
    "        dp=[0]*m\n",
    "    return prev_dp[m-1]    "
   ]
  },
  {
   "cell_type": "code",
   "execution_count": 36,
   "id": "18e290f5",
   "metadata": {},
   "outputs": [],
   "source": [
    "matrix = [[3,2,12,15,10],[6,19,7,11,17],[8,5,12,32,21],[3,20,2,9,7]]"
   ]
  },
  {
   "cell_type": "code",
   "execution_count": 37,
   "id": "6a87705e",
   "metadata": {},
   "outputs": [
    {
     "data": {
      "text/plain": [
       "52"
      ]
     },
     "execution_count": 37,
     "metadata": {},
     "output_type": "execute_result"
    }
   ],
   "source": [
    "minimum_path_cost_bu(matrix)"
   ]
  }
 ],
 "metadata": {
  "kernelspec": {
   "display_name": "Python 3 (ipykernel)",
   "language": "python",
   "name": "python3"
  },
  "language_info": {
   "codemirror_mode": {
    "name": "ipython",
    "version": 3
   },
   "file_extension": ".py",
   "mimetype": "text/x-python",
   "name": "python",
   "nbconvert_exporter": "python",
   "pygments_lexer": "ipython3",
   "version": "3.10.9"
  }
 },
 "nbformat": 4,
 "nbformat_minor": 5
}
