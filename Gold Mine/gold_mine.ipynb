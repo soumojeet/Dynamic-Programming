{
 "cells": [
  {
   "cell_type": "markdown",
   "id": "6d0b2aa3",
   "metadata": {},
   "source": [
    "# Gold Mine Problem"
   ]
  },
  {
   "cell_type": "markdown",
   "id": "c6cb6207",
   "metadata": {},
   "source": [
    "### Greedy Approach"
   ]
  },
  {
   "cell_type": "code",
   "execution_count": 17,
   "id": "8783ad65",
   "metadata": {},
   "outputs": [],
   "source": [
    "def gold_mine(matrix, i=0, j=0):\n",
    "    n=len(matrix)\n",
    "    m=len(matrix[0])\n",
    "    \n",
    "    if i==n or j==m or j<0:\n",
    "        return 0\n",
    "    else:\n",
    "        return matrix[i][j] + max(gold_mine(matrix, i+1, j-1),\n",
    "                                  gold_mine(matrix, i+1, j),\n",
    "                                  gold_mine(matrix, i+1, j+1))"
   ]
  },
  {
   "cell_type": "code",
   "execution_count": 18,
   "id": "3f83649e",
   "metadata": {},
   "outputs": [],
   "source": [
    "matrix = [[3,2,12,15,10],[6,19,7,11,17],[8,5,12,32,21],[3,20,2,9,7]]"
   ]
  },
  {
   "cell_type": "code",
   "execution_count": 19,
   "id": "3ae67643",
   "metadata": {},
   "outputs": [
    {
     "data": {
      "text/plain": [
       "73"
      ]
     },
     "execution_count": 19,
     "metadata": {},
     "output_type": "execute_result"
    }
   ],
   "source": [
    "max_gold = 0\n",
    "for i in range(len(matrix[0])):\n",
    "    max_gold = max(max_gold, gold_mine(matrix, 0, i))\n",
    "max_gold"
   ]
  },
  {
   "cell_type": "markdown",
   "id": "e23d94a1",
   "metadata": {},
   "source": [
    "### Top Down Approach"
   ]
  },
  {
   "cell_type": "code",
   "execution_count": 23,
   "id": "267b9aa9",
   "metadata": {},
   "outputs": [],
   "source": [
    "def gold_mine_td(matrix, i=0, j=0, lookup=None):\n",
    "    if (i,j) in lookup:\n",
    "        return lookup[(i,j)]\n",
    "\n",
    "    n=len(matrix)\n",
    "    m=len(matrix[0])\n",
    "    \n",
    "    if i==n or j==m or j<0:\n",
    "        lookup[(i,j)] = 0\n",
    "        return lookup[(i,j)]\n",
    "    else:\n",
    "        lookup[(i,j)] = matrix[i][j] + max(gold_mine_td(matrix, i+1, j-1, lookup),\n",
    "                                          gold_mine_td(matrix, i+1, j, lookup),\n",
    "                                          gold_mine_td(matrix, i+1, j+1, lookup))\n",
    "        return lookup[(i,j)]"
   ]
  },
  {
   "cell_type": "code",
   "execution_count": 24,
   "id": "7d45ea41",
   "metadata": {},
   "outputs": [],
   "source": [
    "matrix = [[3,2,12,15,10],[6,19,7,11,17],[8,5,12,32,21],[3,20,2,9,7]]"
   ]
  },
  {
   "cell_type": "code",
   "execution_count": 25,
   "id": "8215e0e6",
   "metadata": {},
   "outputs": [
    {
     "data": {
      "text/plain": [
       "73"
      ]
     },
     "execution_count": 25,
     "metadata": {},
     "output_type": "execute_result"
    }
   ],
   "source": [
    "max_gold = 0\n",
    "lookup = dict()\n",
    "for i in range(len(matrix[0])):\n",
    "    max_gold = max(max_gold, gold_mine_td(matrix, 0, i, lookup))\n",
    "max_gold"
   ]
  },
  {
   "cell_type": "markdown",
   "id": "5e686921",
   "metadata": {},
   "source": [
    "### Bottom Up Approach"
   ]
  },
  {
   "cell_type": "code",
   "execution_count": 44,
   "id": "c7f94eca",
   "metadata": {},
   "outputs": [],
   "source": [
    "def gold_mine_bu(matrix):\n",
    "    n=len(matrix)\n",
    "    m=len(matrix[0])\n",
    "    dp=[0]*m\n",
    "    prev_dp=[0]*m\n",
    "    \n",
    "    for i in range(m):\n",
    "        prev_dp[i]=matrix[0][i]\n",
    "    for i in range(1,n):\n",
    "        for j in range(m):\n",
    "            top_left=prev_dp[j-1] if j-1>=0 else 0\n",
    "            top=prev_dp[j]\n",
    "            top_right=prev_dp[j+1] if j+1<m else 0\n",
    "            dp[j]=matrix[i][j]+max(top_left,top,top_right)\n",
    "        prev_dp=dp\n",
    "        dp=[0]*m\n",
    "    return max(prev_dp)"
   ]
  },
  {
   "cell_type": "code",
   "execution_count": 45,
   "id": "18e290f5",
   "metadata": {},
   "outputs": [],
   "source": [
    "matrix = [[3,2,12,15,10],[6,19,7,11,17],[8,5,12,32,21],[3,20,2,9,7]]"
   ]
  },
  {
   "cell_type": "code",
   "execution_count": 46,
   "id": "6a87705e",
   "metadata": {},
   "outputs": [
    {
     "data": {
      "text/plain": [
       "73"
      ]
     },
     "execution_count": 46,
     "metadata": {},
     "output_type": "execute_result"
    }
   ],
   "source": [
    "gold_mine_bu(matrix)"
   ]
  }
 ],
 "metadata": {
  "kernelspec": {
   "display_name": "Python 3 (ipykernel)",
   "language": "python",
   "name": "python3"
  },
  "language_info": {
   "codemirror_mode": {
    "name": "ipython",
    "version": 3
   },
   "file_extension": ".py",
   "mimetype": "text/x-python",
   "name": "python",
   "nbconvert_exporter": "python",
   "pygments_lexer": "ipython3",
   "version": "3.10.9"
  }
 },
 "nbformat": 4,
 "nbformat_minor": 5
}
