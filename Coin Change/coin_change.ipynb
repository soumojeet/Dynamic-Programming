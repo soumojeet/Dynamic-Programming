{
 "cells": [
  {
   "cell_type": "markdown",
   "id": "6d0b2aa3",
   "metadata": {},
   "source": [
    "# Coin Change Problem"
   ]
  },
  {
   "cell_type": "markdown",
   "id": "c6cb6207",
   "metadata": {},
   "source": [
    "### Greedy Approach"
   ]
  },
  {
   "cell_type": "code",
   "execution_count": 7,
   "id": "8783ad65",
   "metadata": {},
   "outputs": [],
   "source": [
    "def coin_change(amount,possible_coins):\n",
    "    if amount==0:\n",
    "        return 0\n",
    "    else:\n",
    "        min_coins=float('inf')\n",
    "        for coin in possible_coins:\n",
    "            if amount-coin>=0:\n",
    "                min_coins=min(min_coins,1+coin_change(amount-coin,possible_coins))\n",
    "        return min_coins"
   ]
  },
  {
   "cell_type": "code",
   "execution_count": 8,
   "id": "3f83649e",
   "metadata": {},
   "outputs": [],
   "source": [
    "amount=15\n",
    "possible_coins=[2,3,7]"
   ]
  },
  {
   "cell_type": "code",
   "execution_count": 9,
   "id": "3ae67643",
   "metadata": {},
   "outputs": [
    {
     "data": {
      "text/plain": [
       "4"
      ]
     },
     "execution_count": 9,
     "metadata": {},
     "output_type": "execute_result"
    }
   ],
   "source": [
    "coin_change(amount,possible_coins)"
   ]
  },
  {
   "cell_type": "markdown",
   "id": "e23d94a1",
   "metadata": {},
   "source": [
    "### Top Down Approach"
   ]
  },
  {
   "cell_type": "code",
   "execution_count": 42,
   "id": "267b9aa9",
   "metadata": {},
   "outputs": [],
   "source": [
    "def coin_change_td(amount,possible_coins,lookup=None):\n",
    "    lookup = dict() if lookup == None else lookup\n",
    "    if amount in lookup:\n",
    "        return lookup[amount]\n",
    "    if amount==0:\n",
    "        lookup[amount]=0\n",
    "        return lookup[amount]\n",
    "    else:\n",
    "        min_coins=float('inf')\n",
    "        for coin in possible_coins:\n",
    "            if amount-coin>=0:\n",
    "                min_coins=min(min_coins,1+coin_change(amount-coin,possible_coins))\n",
    "        lookup[amount]=min_coins\n",
    "        return lookup[amount]"
   ]
  },
  {
   "cell_type": "code",
   "execution_count": 43,
   "id": "7d45ea41",
   "metadata": {},
   "outputs": [],
   "source": [
    "amount=15\n",
    "possible_coins=[2,3,7]"
   ]
  },
  {
   "cell_type": "code",
   "execution_count": 44,
   "id": "8215e0e6",
   "metadata": {},
   "outputs": [
    {
     "data": {
      "text/plain": [
       "4"
      ]
     },
     "execution_count": 44,
     "metadata": {},
     "output_type": "execute_result"
    }
   ],
   "source": [
    "coin_change_td(amount,possible_coins)"
   ]
  },
  {
   "cell_type": "markdown",
   "id": "5e686921",
   "metadata": {},
   "source": [
    "### Bottom Up Approach"
   ]
  },
  {
   "cell_type": "code",
   "execution_count": 50,
   "id": "c7f94eca",
   "metadata": {},
   "outputs": [],
   "source": [
    "def coin_change_bu(amount,possible_coins):\n",
    "    dp=[float('inf')]*(amount+1)\n",
    "    dp[0]=0\n",
    "    for value in range(1,amount+1):\n",
    "        for coin in possible_coins:\n",
    "            if value-coin>=0:\n",
    "                dp[value]=min(dp[value],1+dp[value-coin])\n",
    "    return dp[amount]"
   ]
  },
  {
   "cell_type": "code",
   "execution_count": 51,
   "id": "18e290f5",
   "metadata": {},
   "outputs": [],
   "source": [
    "amount=15\n",
    "possible_coins=[2,3,7]"
   ]
  },
  {
   "cell_type": "code",
   "execution_count": 53,
   "id": "6a87705e",
   "metadata": {},
   "outputs": [
    {
     "data": {
      "text/plain": [
       "4"
      ]
     },
     "execution_count": 53,
     "metadata": {},
     "output_type": "execute_result"
    }
   ],
   "source": [
    "coin_change_bu(amount,possible_coins)"
   ]
  }
 ],
 "metadata": {
  "kernelspec": {
   "display_name": "Python 3 (ipykernel)",
   "language": "python",
   "name": "python3"
  },
  "language_info": {
   "codemirror_mode": {
    "name": "ipython",
    "version": 3
   },
   "file_extension": ".py",
   "mimetype": "text/x-python",
   "name": "python",
   "nbconvert_exporter": "python",
   "pygments_lexer": "ipython3",
   "version": "3.10.9"
  }
 },
 "nbformat": 4,
 "nbformat_minor": 5
}
