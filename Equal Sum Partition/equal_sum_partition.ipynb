{
 "cells": [
  {
   "cell_type": "markdown",
   "id": "6d0b2aa3",
   "metadata": {},
   "source": [
    "# Equal Sum Partition Problem"
   ]
  },
  {
   "cell_type": "markdown",
   "id": "c6cb6207",
   "metadata": {},
   "source": [
    "### Greedy Approach"
   ]
  },
  {
   "cell_type": "code",
   "execution_count": 8,
   "id": "8783ad65",
   "metadata": {},
   "outputs": [],
   "source": [
    "def equal_sum_partition(array,i=0,sum1=0,sum2=0):\n",
    "    n=len(array)\n",
    "    \n",
    "    if i==n:\n",
    "        return sum1==sum2\n",
    "    else:\n",
    "        return equal_sum_partition(array,i+1,sum1+array[i],sum2) or equal_sum_partition(array,i+1,sum1,sum2+array[i])"
   ]
  },
  {
   "cell_type": "code",
   "execution_count": 9,
   "id": "3f83649e",
   "metadata": {},
   "outputs": [],
   "source": [
    "array = [4,5,3,2,5,1]"
   ]
  },
  {
   "cell_type": "code",
   "execution_count": 10,
   "id": "3ae67643",
   "metadata": {},
   "outputs": [
    {
     "data": {
      "text/plain": [
       "True"
      ]
     },
     "execution_count": 10,
     "metadata": {},
     "output_type": "execute_result"
    }
   ],
   "source": [
    "equal_sum_partition(array)"
   ]
  },
  {
   "cell_type": "markdown",
   "id": "5e686921",
   "metadata": {},
   "source": [
    "### Bottom Up Approach"
   ]
  },
  {
   "cell_type": "code",
   "execution_count": 27,
   "id": "c7f94eca",
   "metadata": {},
   "outputs": [],
   "source": [
    "def equal_sum_partition_bu(array):\n",
    "    array_sum = sum(array)\n",
    "    array_sum_half = array_sum//2\n",
    "    if array_sum%2 == 1:\n",
    "        return False\n",
    "    n=len(array)\n",
    "    if n==0 or array_sum_half//2>sum(array):\n",
    "        return False\n",
    "    \n",
    "    dp=[[0]*(array_sum_half+1) for i in range(n)]\n",
    "    dp[0][0]=1\n",
    "    if array[0]<=array_sum_half:\n",
    "        dp[0][array[0]]=1\n",
    "    for i in range(1,n):\n",
    "        for j in range(array_sum_half+1):\n",
    "            dp[i][j]=dp[i-1][j]+(dp[i-1][j-array[i]] if j-array[i] >= 0 else 0)\n",
    "    return True if dp[n-1][array_sum_half]>0 else False"
   ]
  },
  {
   "cell_type": "code",
   "execution_count": 28,
   "id": "18e290f5",
   "metadata": {},
   "outputs": [],
   "source": [
    "array = [4,5,3,2,5,1]"
   ]
  },
  {
   "cell_type": "code",
   "execution_count": 29,
   "id": "6a87705e",
   "metadata": {},
   "outputs": [
    {
     "data": {
      "text/plain": [
       "True"
      ]
     },
     "execution_count": 29,
     "metadata": {},
     "output_type": "execute_result"
    }
   ],
   "source": [
    "equal_sum_partition_bu(array)"
   ]
  }
 ],
 "metadata": {
  "kernelspec": {
   "display_name": "Python 3 (ipykernel)",
   "language": "python",
   "name": "python3"
  },
  "language_info": {
   "codemirror_mode": {
    "name": "ipython",
    "version": 3
   },
   "file_extension": ".py",
   "mimetype": "text/x-python",
   "name": "python",
   "nbconvert_exporter": "python",
   "pygments_lexer": "ipython3",
   "version": "3.10.9"
  }
 },
 "nbformat": 4,
 "nbformat_minor": 5
}
