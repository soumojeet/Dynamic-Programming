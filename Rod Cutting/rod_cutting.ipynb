{
 "cells": [
  {
   "cell_type": "markdown",
   "id": "6d0b2aa3",
   "metadata": {},
   "source": [
    "# Rod Cutting Problem"
   ]
  },
  {
   "cell_type": "markdown",
   "id": "c6cb6207",
   "metadata": {},
   "source": [
    "### Greedy Approach"
   ]
  },
  {
   "cell_type": "code",
   "execution_count": 1,
   "id": "8783ad65",
   "metadata": {},
   "outputs": [],
   "source": [
    "def rod_cutting(prices, cuts):\n",
    "    max_price = 0\n",
    "    for length in range(1, cuts+1):\n",
    "        max_price = max(max_price, prices[length]+rod_cutting(prices, cuts-length))\n",
    "    return max_price"
   ]
  },
  {
   "cell_type": "code",
   "execution_count": 2,
   "id": "3f83649e",
   "metadata": {},
   "outputs": [],
   "source": [
    "prices=[0,1,3,5,6,7,9,10,11]\n",
    "cuts=8"
   ]
  },
  {
   "cell_type": "code",
   "execution_count": 3,
   "id": "3ae67643",
   "metadata": {},
   "outputs": [
    {
     "data": {
      "text/plain": [
       "13"
      ]
     },
     "execution_count": 3,
     "metadata": {},
     "output_type": "execute_result"
    }
   ],
   "source": [
    "rod_cutting(prices,cuts)"
   ]
  },
  {
   "cell_type": "markdown",
   "id": "e23d94a1",
   "metadata": {},
   "source": [
    "### Top Down Approach"
   ]
  },
  {
   "cell_type": "code",
   "execution_count": 7,
   "id": "267b9aa9",
   "metadata": {},
   "outputs": [],
   "source": [
    "def rod_cutting_td(prices, cuts, lookup=None):\n",
    "    lookup = dict() if lookup == None else lookup\n",
    "    if cuts in lookup:\n",
    "        return lookup[cuts]\n",
    "\n",
    "    max_price = 0\n",
    "    for length in range(1, cuts+1):\n",
    "        max_price = max(max_price, prices[length]+rod_cutting_td(prices, cuts-length, lookup))\n",
    "    lookup[cuts] = max_price\n",
    "    return max_price"
   ]
  },
  {
   "cell_type": "code",
   "execution_count": 8,
   "id": "7d45ea41",
   "metadata": {},
   "outputs": [],
   "source": [
    "prices=[0,1,3,5,6,7,9,10,11]\n",
    "cuts=8"
   ]
  },
  {
   "cell_type": "code",
   "execution_count": 9,
   "id": "8215e0e6",
   "metadata": {},
   "outputs": [
    {
     "data": {
      "text/plain": [
       "13"
      ]
     },
     "execution_count": 9,
     "metadata": {},
     "output_type": "execute_result"
    }
   ],
   "source": [
    "rod_cutting_td(prices,cuts)"
   ]
  },
  {
   "cell_type": "markdown",
   "id": "5e686921",
   "metadata": {},
   "source": [
    "### Bottom Up Approach"
   ]
  },
  {
   "cell_type": "code",
   "execution_count": 10,
   "id": "c7f94eca",
   "metadata": {},
   "outputs": [],
   "source": [
    "def rod_cutting_bu(prices, cuts):\n",
    "    dp = [0]*(cuts+1)\n",
    "    for i in range(1, cuts+1):\n",
    "        for length in range(1, i+1):\n",
    "            dp[i] = max(dp[i], prices[length]+dp[i-length])\n",
    "    return dp[cuts]"
   ]
  },
  {
   "cell_type": "code",
   "execution_count": 11,
   "id": "18e290f5",
   "metadata": {},
   "outputs": [],
   "source": [
    "prices=[0,1,3,5,6,7,9,10,11]\n",
    "cuts=8"
   ]
  },
  {
   "cell_type": "code",
   "execution_count": 12,
   "id": "6a87705e",
   "metadata": {},
   "outputs": [
    {
     "data": {
      "text/plain": [
       "13"
      ]
     },
     "execution_count": 12,
     "metadata": {},
     "output_type": "execute_result"
    }
   ],
   "source": [
    "rod_cutting_bu(prices,cuts)"
   ]
  }
 ],
 "metadata": {
  "kernelspec": {
   "display_name": "Python 3 (ipykernel)",
   "language": "python",
   "name": "python3"
  },
  "language_info": {
   "codemirror_mode": {
    "name": "ipython",
    "version": 3
   },
   "file_extension": ".py",
   "mimetype": "text/x-python",
   "name": "python",
   "nbconvert_exporter": "python",
   "pygments_lexer": "ipython3",
   "version": "3.10.9"
  }
 },
 "nbformat": 4,
 "nbformat_minor": 5
}
