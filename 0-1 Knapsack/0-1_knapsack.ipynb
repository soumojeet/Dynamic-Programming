{
 "cells": [
  {
   "cell_type": "markdown",
   "id": "6d0b2aa3",
   "metadata": {},
   "source": [
    "# 0-1 Knapsack Problem"
   ]
  },
  {
   "cell_type": "markdown",
   "id": "c6cb6207",
   "metadata": {},
   "source": [
    "### Greedy Approach"
   ]
  },
  {
   "cell_type": "code",
   "execution_count": 8,
   "id": "8783ad65",
   "metadata": {},
   "outputs": [],
   "source": [
    "def _knapsack(values,weights,knapsack,i=0):\n",
    "    len_value=len(values)\n",
    "    len_weight=len(weights)\n",
    "    \n",
    "    if i==len_value:\n",
    "        return 0\n",
    "    elif weights[i]>knapsack:\n",
    "        return _knapsack(values,weights,knapsack,i+1)\n",
    "    else:\n",
    "        return max(values[i]+_knapsack(values,weights,knapsack-weights[i],i+1),\n",
    "                   _knapsack(values,weights,knapsack,i+1))"
   ]
  },
  {
   "cell_type": "code",
   "execution_count": 9,
   "id": "3f83649e",
   "metadata": {},
   "outputs": [],
   "source": [
    "values=[20,30,15,25,10]\n",
    "weights=[6,13,5,10,3]\n",
    "knapsack=20"
   ]
  },
  {
   "cell_type": "code",
   "execution_count": 10,
   "id": "3ae67643",
   "metadata": {},
   "outputs": [
    {
     "data": {
      "text/plain": [
       "55"
      ]
     },
     "execution_count": 10,
     "metadata": {},
     "output_type": "execute_result"
    }
   ],
   "source": [
    "_knapsack(values,weights,knapsack)"
   ]
  },
  {
   "cell_type": "markdown",
   "id": "e23d94a1",
   "metadata": {},
   "source": [
    "### Top Down Approach"
   ]
  },
  {
   "cell_type": "code",
   "execution_count": 25,
   "id": "267b9aa9",
   "metadata": {},
   "outputs": [],
   "source": [
    "def _knapsack_td(values,weights,knapsack,i=0,lookup=None):\n",
    "    lookup = dict() if lookup == None else lookup\n",
    "    if (knapsack,i) in lookup:\n",
    "        return lookup[(knapsack,i)]\n",
    "    len_value=len(values)\n",
    "    len_weight=len(weights)\n",
    "    \n",
    "    if i==len_value:\n",
    "        lookup[(knapsack,i)]=0\n",
    "        return lookup[(knapsack,i)]\n",
    "    elif weights[i]>knapsack:\n",
    "        lookup[(knapsack,i)]=_knapsack_td(values,weights,knapsack,i+1,lookup)\n",
    "        return lookup[(knapsack,i)]\n",
    "    else:\n",
    "        lookup[(knapsack,i)]=max(values[i]+_knapsack_td(values,weights,knapsack-weights[i],i+1,lookup),\n",
    "                                 _knapsack_td(values,weights,knapsack,i+1,lookup))\n",
    "        return lookup[(knapsack,i)]"
   ]
  },
  {
   "cell_type": "code",
   "execution_count": 26,
   "id": "7d45ea41",
   "metadata": {},
   "outputs": [],
   "source": [
    "values=[20,30,15,25,10]\n",
    "weights=[6,13,5,10,3]\n",
    "knapsack=20"
   ]
  },
  {
   "cell_type": "code",
   "execution_count": 31,
   "id": "8215e0e6",
   "metadata": {},
   "outputs": [
    {
     "data": {
      "text/plain": [
       "55"
      ]
     },
     "execution_count": 31,
     "metadata": {},
     "output_type": "execute_result"
    }
   ],
   "source": [
    "_knapsack_td(values,weights,knapsack)"
   ]
  },
  {
   "cell_type": "markdown",
   "id": "5e686921",
   "metadata": {},
   "source": [
    "### Bottom Up Approach"
   ]
  },
  {
   "cell_type": "code",
   "execution_count": 71,
   "id": "c7f94eca",
   "metadata": {},
   "outputs": [],
   "source": [
    "def _knapsack_bu(values,weights,knapsack):\n",
    "    if knapsack==0:\n",
    "        return 0\n",
    "    elif knapsack>=sum(weights):\n",
    "        return sum(values)\n",
    "    len_value=len(values)\n",
    "    len_weight=len(weights)\n",
    "    prev_dp=[0]*(knapsack+1)\n",
    "    dp=[0]*(knapsack+1)\n",
    "    \n",
    "    for i in range(weights[0],knapsack+1):\n",
    "        prev_dp[i]=values[0]\n",
    "    for i in range(1,len_value):\n",
    "        for j in range(knapsack+1):\n",
    "            if weights[i]>j:\n",
    "                dp[j]=prev_dp[j]\n",
    "            else:\n",
    "                dp[j]=max(values[i]+prev_dp[j-weights[i]],prev_dp[j])\n",
    "        prev_dp=dp\n",
    "        dp=[0]*(knapsack+1)\n",
    "    return prev_dp[knapsack]"
   ]
  },
  {
   "cell_type": "code",
   "execution_count": 72,
   "id": "18e290f5",
   "metadata": {},
   "outputs": [],
   "source": [
    "values=[20,30,15,25,10]\n",
    "weights=[6,13,5,10,3]\n",
    "knapsack=20"
   ]
  },
  {
   "cell_type": "code",
   "execution_count": 73,
   "id": "6a87705e",
   "metadata": {},
   "outputs": [
    {
     "data": {
      "text/plain": [
       "55"
      ]
     },
     "execution_count": 73,
     "metadata": {},
     "output_type": "execute_result"
    }
   ],
   "source": [
    "_knapsack_bu(values,weights,knapsack)"
   ]
  }
 ],
 "metadata": {
  "kernelspec": {
   "display_name": "Python 3 (ipykernel)",
   "language": "python",
   "name": "python3"
  },
  "language_info": {
   "codemirror_mode": {
    "name": "ipython",
    "version": 3
   },
   "file_extension": ".py",
   "mimetype": "text/x-python",
   "name": "python",
   "nbconvert_exporter": "python",
   "pygments_lexer": "ipython3",
   "version": "3.10.9"
  }
 },
 "nbformat": 4,
 "nbformat_minor": 5
}
