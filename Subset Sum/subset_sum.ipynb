{
 "cells": [
  {
   "cell_type": "markdown",
   "id": "6d0b2aa3",
   "metadata": {},
   "source": [
    "# Subset Sum Problem"
   ]
  },
  {
   "cell_type": "markdown",
   "id": "c6cb6207",
   "metadata": {},
   "source": [
    "### Greedy Approach"
   ]
  },
  {
   "cell_type": "code",
   "execution_count": 4,
   "id": "8783ad65",
   "metadata": {},
   "outputs": [],
   "source": [
    "def subset_sum(array,value,i=0):\n",
    "    n=len(array)\n",
    "    \n",
    "    if value==0:\n",
    "        return 1\n",
    "    elif i==n or value<0:\n",
    "        return 0\n",
    "    else:\n",
    "        return subset_sum(array,value-array[i],i+1)+subset_sum(array,value,i+1)"
   ]
  },
  {
   "cell_type": "code",
   "execution_count": 5,
   "id": "3f83649e",
   "metadata": {},
   "outputs": [],
   "source": [
    "array=[1,2,3,1,4]\n",
    "value=6"
   ]
  },
  {
   "cell_type": "code",
   "execution_count": 6,
   "id": "3ae67643",
   "metadata": {},
   "outputs": [
    {
     "data": {
      "text/plain": [
       "4"
      ]
     },
     "execution_count": 6,
     "metadata": {},
     "output_type": "execute_result"
    }
   ],
   "source": [
    "subset_sum(array,value)"
   ]
  },
  {
   "cell_type": "markdown",
   "id": "e23d94a1",
   "metadata": {},
   "source": [
    "### Top Down Approach"
   ]
  },
  {
   "cell_type": "code",
   "execution_count": 33,
   "id": "267b9aa9",
   "metadata": {},
   "outputs": [],
   "source": [
    "def subset_sum_td(array,value,i=0,lookup=None):\n",
    "    lookup = dict() if lookup is None else lookup\n",
    "    if (i,value) in lookup:\n",
    "        return lookup[(i,value)]\n",
    "    n=len(array)\n",
    "    \n",
    "    if value==0:\n",
    "        lookup[(i,value)]=1\n",
    "        return lookup[(i,value)]\n",
    "    elif i==n or value<0:\n",
    "        lookup[(i,value)]=0\n",
    "        return lookup[(i,value)]\n",
    "    else:\n",
    "        lookup[(i,value)]=subset_sum_td(array,value-array[i],i+1,lookup)+subset_sum_td(array,value,i+1,lookup)\n",
    "        return lookup[(i,value)]"
   ]
  },
  {
   "cell_type": "code",
   "execution_count": 37,
   "id": "7d45ea41",
   "metadata": {},
   "outputs": [],
   "source": [
    "array=[1,2,3,1,4]\n",
    "value=6"
   ]
  },
  {
   "cell_type": "code",
   "execution_count": 38,
   "id": "8215e0e6",
   "metadata": {},
   "outputs": [
    {
     "data": {
      "text/plain": [
       "4"
      ]
     },
     "execution_count": 38,
     "metadata": {},
     "output_type": "execute_result"
    }
   ],
   "source": [
    "subset_sum_td(array,value)"
   ]
  },
  {
   "cell_type": "markdown",
   "id": "5e686921",
   "metadata": {},
   "source": [
    "### Bottom Up Approach"
   ]
  },
  {
   "cell_type": "code",
   "execution_count": 47,
   "id": "c7f94eca",
   "metadata": {},
   "outputs": [],
   "source": [
    "def subset_sum_bu(array,value):\n",
    "    n=len(array)\n",
    "    if value>sum(array) or n==0:\n",
    "        return 0\n",
    "    prev_dp=[0]*(value+1)\n",
    "    dp=[0]*(value+1)\n",
    "    prev_dp[0]=1\n",
    "    \n",
    "    if array[0]<=value:\n",
    "        prev_dp[array[0]]=1\n",
    "    \n",
    "    for i in range(1,n):\n",
    "        for j in range(value+1):\n",
    "            dp[j]=prev_dp[j]+(prev_dp[j-array[i]] if j-array[i]>=0 else 0)\n",
    "        prev_dp=dp\n",
    "        dp=[0]*(value+1)\n",
    "    return prev_dp[value]"
   ]
  },
  {
   "cell_type": "code",
   "execution_count": 48,
   "id": "18e290f5",
   "metadata": {},
   "outputs": [],
   "source": [
    "array=[1,2,3,1,4]\n",
    "value=6"
   ]
  },
  {
   "cell_type": "code",
   "execution_count": 49,
   "id": "6a87705e",
   "metadata": {},
   "outputs": [
    {
     "data": {
      "text/plain": [
       "4"
      ]
     },
     "execution_count": 49,
     "metadata": {},
     "output_type": "execute_result"
    }
   ],
   "source": [
    "subset_sum_bu(array,value)"
   ]
  }
 ],
 "metadata": {
  "kernelspec": {
   "display_name": "Python 3 (ipykernel)",
   "language": "python",
   "name": "python3"
  },
  "language_info": {
   "codemirror_mode": {
    "name": "ipython",
    "version": 3
   },
   "file_extension": ".py",
   "mimetype": "text/x-python",
   "name": "python",
   "nbconvert_exporter": "python",
   "pygments_lexer": "ipython3",
   "version": "3.10.9"
  }
 },
 "nbformat": 4,
 "nbformat_minor": 5
}
