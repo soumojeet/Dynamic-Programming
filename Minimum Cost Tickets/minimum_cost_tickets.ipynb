{
 "cells": [
  {
   "cell_type": "markdown",
   "id": "6d0b2aa3",
   "metadata": {},
   "source": [
    "# Minimum Cost Tickets Problem"
   ]
  },
  {
   "cell_type": "markdown",
   "id": "c6cb6207",
   "metadata": {},
   "source": [
    "### Greedy Approach"
   ]
  },
  {
   "cell_type": "code",
   "execution_count": 7,
   "id": "8783ad65",
   "metadata": {},
   "outputs": [],
   "source": [
    "def minimum_cost_tickets(travel_days, costs, no_of_days, day=0):\n",
    "    if day>=no_of_days:\n",
    "        return 0\n",
    "    elif day not in travel_days:\n",
    "        return minimum_cost_tickets(travel_days, costs, no_of_days, day+1)\n",
    "    else:\n",
    "        return min(costs[0]+minimum_cost_tickets(travel_days, costs, no_of_days, day+1),\n",
    "                   costs[1]+minimum_cost_tickets(travel_days, costs, no_of_days, day+7),\n",
    "                   costs[2]+minimum_cost_tickets(travel_days, costs, no_of_days, day+30))"
   ]
  },
  {
   "cell_type": "code",
   "execution_count": 8,
   "id": "3f83649e",
   "metadata": {},
   "outputs": [],
   "source": [
    "travel_days=[1,3,8,9,22,23,28,31]\n",
    "costs=[4,10,25]\n",
    "no_of_days=32"
   ]
  },
  {
   "cell_type": "code",
   "execution_count": 9,
   "id": "3ae67643",
   "metadata": {},
   "outputs": [
    {
     "data": {
      "text/plain": [
       "28"
      ]
     },
     "execution_count": 9,
     "metadata": {},
     "output_type": "execute_result"
    }
   ],
   "source": [
    "minimum_cost_tickets(travel_days,costs,no_of_days)"
   ]
  },
  {
   "cell_type": "markdown",
   "id": "e23d94a1",
   "metadata": {},
   "source": [
    "### Top Down Approach"
   ]
  },
  {
   "cell_type": "code",
   "execution_count": 13,
   "id": "267b9aa9",
   "metadata": {},
   "outputs": [],
   "source": [
    "def minimum_cost_tickets_td(travel_days, costs, no_of_days, day=0, lookup=None):\n",
    "    lookup = dict() if lookup is None else lookup\n",
    "    if day in lookup:\n",
    "        return lookup[day]\n",
    "    if day>=no_of_days:\n",
    "        lookup[day]=0\n",
    "        return lookup[day]\n",
    "    elif day not in travel_days:\n",
    "        lookup[day]=minimum_cost_tickets_td(travel_days, costs, no_of_days, day+1, lookup)\n",
    "        return lookup[day]\n",
    "    else:\n",
    "        lookup[day]=min(costs[0]+minimum_cost_tickets_td(travel_days, costs, no_of_days, day+1, lookup),\n",
    "                   costs[1]+minimum_cost_tickets_td(travel_days, costs, no_of_days, day+7, lookup),\n",
    "                   costs[2]+minimum_cost_tickets_td(travel_days, costs, no_of_days, day+30, lookup))\n",
    "        return lookup[day]"
   ]
  },
  {
   "cell_type": "code",
   "execution_count": 14,
   "id": "7d45ea41",
   "metadata": {},
   "outputs": [],
   "source": [
    "travel_days=[1,3,8,9,22,23,28,31]\n",
    "costs=[4,10,25]\n",
    "no_of_days=32"
   ]
  },
  {
   "cell_type": "code",
   "execution_count": 15,
   "id": "8215e0e6",
   "metadata": {},
   "outputs": [
    {
     "data": {
      "text/plain": [
       "28"
      ]
     },
     "execution_count": 15,
     "metadata": {},
     "output_type": "execute_result"
    }
   ],
   "source": [
    "minimum_cost_tickets_td(travel_days,costs,no_of_days)"
   ]
  },
  {
   "cell_type": "markdown",
   "id": "5e686921",
   "metadata": {},
   "source": [
    "### Bottom Up Approach"
   ]
  },
  {
   "cell_type": "code",
   "execution_count": 28,
   "id": "c7f94eca",
   "metadata": {},
   "outputs": [],
   "source": [
    "def minimum_cost_tickets_bu(travel_days, costs, no_of_days):\n",
    "    dp=[0]*no_of_days\n",
    "    for i in range(len(dp)):\n",
    "        if i not in travel_days:\n",
    "            dp[i]=(dp[i-1] if i-1 >= 0 else 0)\n",
    "        else:\n",
    "            day_cost= costs[0]+(dp[i-1] if i-1 >= 0 else 0)\n",
    "            week_cost= costs[1]+(dp[i-7] if i-7 >= 0 else 0)\n",
    "            month_cost= costs[2]+(dp[i-30] if i-30 >= 0 else 0)\n",
    "            dp[i] = min(day_cost, week_cost, month_cost)\n",
    "    return dp[no_of_days-1]"
   ]
  },
  {
   "cell_type": "code",
   "execution_count": 29,
   "id": "18e290f5",
   "metadata": {},
   "outputs": [],
   "source": [
    "travel_days=[1,3,8,9,22,23,28,31]\n",
    "costs=[4,10,25]\n",
    "no_of_days=32"
   ]
  },
  {
   "cell_type": "code",
   "execution_count": 30,
   "id": "6a87705e",
   "metadata": {},
   "outputs": [
    {
     "data": {
      "text/plain": [
       "28"
      ]
     },
     "execution_count": 30,
     "metadata": {},
     "output_type": "execute_result"
    }
   ],
   "source": [
    "minimum_cost_tickets_bu(travel_days,costs,no_of_days)"
   ]
  }
 ],
 "metadata": {
  "kernelspec": {
   "display_name": "Python 3 (ipykernel)",
   "language": "python",
   "name": "python3"
  },
  "language_info": {
   "codemirror_mode": {
    "name": "ipython",
    "version": 3
   },
   "file_extension": ".py",
   "mimetype": "text/x-python",
   "name": "python",
   "nbconvert_exporter": "python",
   "pygments_lexer": "ipython3",
   "version": "3.10.9"
  }
 },
 "nbformat": 4,
 "nbformat_minor": 5
}
