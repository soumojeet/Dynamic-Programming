{
 "cells": [
  {
   "cell_type": "markdown",
   "id": "6d0b2aa3",
   "metadata": {},
   "source": [
    "# Ways To Climb Problem"
   ]
  },
  {
   "cell_type": "markdown",
   "id": "c6cb6207",
   "metadata": {},
   "source": [
    "### Greedy Approach"
   ]
  },
  {
   "cell_type": "code",
   "execution_count": 1,
   "id": "8783ad65",
   "metadata": {},
   "outputs": [],
   "source": [
    "def ways_to_climb(stairs,jumps):\n",
    "    if stairs==0:\n",
    "        return 1\n",
    "    else:\n",
    "        no_of_ways=0\n",
    "        for jump in jumps:\n",
    "            if stairs-jump>=0:\n",
    "                no_of_ways+=ways_to_climb(stairs-jump,jumps)\n",
    "        return no_of_ways"
   ]
  },
  {
   "cell_type": "code",
   "execution_count": 2,
   "id": "3f83649e",
   "metadata": {},
   "outputs": [],
   "source": [
    "stairs=10\n",
    "jumps=[2,4,5,8]"
   ]
  },
  {
   "cell_type": "code",
   "execution_count": 3,
   "id": "3ae67643",
   "metadata": {},
   "outputs": [
    {
     "data": {
      "text/plain": [
       "11"
      ]
     },
     "execution_count": 3,
     "metadata": {},
     "output_type": "execute_result"
    }
   ],
   "source": [
    "ways_to_climb(stairs,jumps)"
   ]
  },
  {
   "cell_type": "markdown",
   "id": "e23d94a1",
   "metadata": {},
   "source": [
    "### Top Down Approach"
   ]
  },
  {
   "cell_type": "code",
   "execution_count": 4,
   "id": "267b9aa9",
   "metadata": {},
   "outputs": [],
   "source": [
    "def ways_to_climb_td(stairs,jumps,lookup=None):\n",
    "    lookup=dict() if lookup is None else lookup\n",
    "    if stairs in lookup:\n",
    "        return lookup[stairs]\n",
    "    if stairs==0:\n",
    "        lookup[stairs]=1\n",
    "        return lookup[stairs]\n",
    "    else:\n",
    "        no_of_ways=0\n",
    "        for jump in jumps:\n",
    "            if stairs-jump>=0:\n",
    "                no_of_ways+=ways_to_climb_td(stairs-jump,jumps)\n",
    "        lookup[stairs]=no_of_ways\n",
    "        return lookup[stairs]"
   ]
  },
  {
   "cell_type": "code",
   "execution_count": 5,
   "id": "7d45ea41",
   "metadata": {},
   "outputs": [],
   "source": [
    "stairs=10\n",
    "jumps=[2,4,5,8]"
   ]
  },
  {
   "cell_type": "code",
   "execution_count": 6,
   "id": "8215e0e6",
   "metadata": {},
   "outputs": [
    {
     "data": {
      "text/plain": [
       "11"
      ]
     },
     "execution_count": 6,
     "metadata": {},
     "output_type": "execute_result"
    }
   ],
   "source": [
    "ways_to_climb_td(stairs,jumps)"
   ]
  },
  {
   "cell_type": "markdown",
   "id": "5e686921",
   "metadata": {},
   "source": [
    "### Bottom Up Approach"
   ]
  },
  {
   "cell_type": "code",
   "execution_count": 24,
   "id": "c7f94eca",
   "metadata": {},
   "outputs": [],
   "source": [
    "def ways_to_climb_bu(stairs,jumps):\n",
    "    dp=[0]*(stairs+1)\n",
    "    dp[0]=1\n",
    "    for stair in range(1,stairs+1):\n",
    "        for jump in jumps:\n",
    "            if stair-jump>=0:\n",
    "                dp[stair]+=dp[stair-jump]\n",
    "    return dp[stairs]"
   ]
  },
  {
   "cell_type": "code",
   "execution_count": 25,
   "id": "18e290f5",
   "metadata": {},
   "outputs": [],
   "source": [
    "stairs=10\n",
    "jumps=[2,4,5,8]"
   ]
  },
  {
   "cell_type": "code",
   "execution_count": 26,
   "id": "6a87705e",
   "metadata": {},
   "outputs": [
    {
     "data": {
      "text/plain": [
       "11"
      ]
     },
     "execution_count": 26,
     "metadata": {},
     "output_type": "execute_result"
    }
   ],
   "source": [
    "ways_to_climb_bu(stairs,jumps)"
   ]
  }
 ],
 "metadata": {
  "kernelspec": {
   "display_name": "Python 3 (ipykernel)",
   "language": "python",
   "name": "python3"
  },
  "language_info": {
   "codemirror_mode": {
    "name": "ipython",
    "version": 3
   },
   "file_extension": ".py",
   "mimetype": "text/x-python",
   "name": "python",
   "nbconvert_exporter": "python",
   "pygments_lexer": "ipython3",
   "version": "3.10.9"
  }
 },
 "nbformat": 4,
 "nbformat_minor": 5
}
